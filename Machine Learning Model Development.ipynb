{
 "cells": [
  {
   "cell_type": "markdown",
   "id": "9a2f9370-b371-4bb0-b5c1-f9c59097ed54",
   "metadata": {},
   "source": [
    "# Phase 1: Machine Learning Model Development\n",
    "\n",
    "## Step 1: Data Acquisition and Model Training"
   ]
  },
  {
   "cell_type": "code",
   "execution_count": 22,
   "id": "279d623b-760b-4798-8bf6-d9416abf8417",
   "metadata": {},
   "outputs": [
    {
     "name": "stdout",
     "output_type": "stream",
     "text": [
      "--- Step 1: Data Acquisition and Model Training ---\n",
      "Model trained successfully: LogisticRegression\n"
     ]
    }
   ],
   "source": [
    "print(\"--- Step 1: Data Acquisition and Model Training ---\")\n",
    "\n",
    "# Import necessary libraries\n",
    "from sklearn.datasets import load_iris\n",
    "from sklearn.model_selection import train_test_split\n",
    "from sklearn.linear_model import LogisticRegression\n",
    "from sklearn.metrics import accuracy_score\n",
    "import joblib\n",
    "import pandas as pd\n",
    "\n",
    "# Load the Iris dataset\n",
    "iris = load_iris()\n",
    "X = iris.data  # Features (sepal length, sepal width, petal length, petal width)\n",
    "y = iris.target # Target (species: 0-setosa, 1-versicolor, 2-virginica)\n",
    "\n",
    "# X_train, X_test, y_train, y_test = train_test_split(X, y, test_size=0.2, random_state=42)\n",
    "\n",
    "# Choose a simple classification algorithm (e.g., Logistic Regression)\n",
    "model = LogisticRegression(max_iter=200) # Increased max_iter for convergence\n",
    "model.fit(X, y) # Train the model on the full dataset for this assignment\n",
    "\n",
    "print(f\"Model trained successfully: {model.__class__.__name__}\")\n",
    "\n",
    "# Optional: Evaluate the model (if you split the data)\n",
    "# y_pred = model.predict(X_test)\n",
    "# accuracy = accuracy_score(y_test, y_pred)\n",
    "# print(f\"Model accuracy on test set: {accuracy:.2f}\")\n"
   ]
  },
  {
   "cell_type": "markdown",
   "id": "6701c117-9a9e-4d62-9c72-a3d3b895aa33",
   "metadata": {},
   "source": [
    "## Step 2: Model Saving (Serialization)"
   ]
  },
  {
   "cell_type": "code",
   "execution_count": 25,
   "id": "e2cfc1ce-9abf-405a-8887-5b408dbb83bf",
   "metadata": {},
   "outputs": [
    {
     "name": "stdout",
     "output_type": "stream",
     "text": [
      "\n",
      "--- Step 2: Model Saving (Serialization) ---\n",
      "Model saved to 'iris_model.pkl'\n",
      "This 'iris_model.pkl' file is crucial for the FastAPI application.\n",
      "Model successfully loaded back: LogisticRegression\n"
     ]
    }
   ],
   "source": [
    "\n",
    "print(\"\\n--- Step 2: Model Saving (Serialization) ---\")\n",
    "\n",
    "# Defineing the filename for the saved model\n",
    "model_filename = 'iris_model.pkl'\n",
    "\n",
    "# Save the trained model to a file using joblib\n",
    "joblib.dump(model, model_filename)\n",
    "\n",
    "print(f\"Model saved to '{model_filename}'\")\n",
    "print(\"This 'iris_model.pkl' file is crucial for the FastAPI application.\")\n",
    "\n",
    "# verify the saved model by loading it\n",
    "loaded_model = joblib.load(model_filename)\n",
    "print(f\"Model successfully loaded back: {loaded_model.__class__.__name__}\")"
   ]
  },
  {
   "cell_type": "code",
   "execution_count": null,
   "id": "5bab8a86-5de6-402c-97b3-ab63959d9f38",
   "metadata": {},
   "outputs": [],
   "source": []
  },
  {
   "cell_type": "code",
   "execution_count": null,
   "id": "eb530566-37eb-4d8e-8d4c-0098b032f41e",
   "metadata": {},
   "outputs": [],
   "source": []
  },
  {
   "cell_type": "code",
   "execution_count": null,
   "id": "12de5de1-37d7-484f-9388-98b091f4f271",
   "metadata": {},
   "outputs": [],
   "source": []
  },
  {
   "cell_type": "code",
   "execution_count": null,
   "id": "d8633c63-a11a-475b-8fed-54785133b5c7",
   "metadata": {},
   "outputs": [],
   "source": []
  }
 ],
 "metadata": {
  "kernelspec": {
   "display_name": "Python 3 (ipykernel)",
   "language": "python",
   "name": "python3"
  },
  "language_info": {
   "codemirror_mode": {
    "name": "ipython",
    "version": 3
   },
   "file_extension": ".py",
   "mimetype": "text/x-python",
   "name": "python",
   "nbconvert_exporter": "python",
   "pygments_lexer": "ipython3",
   "version": "3.12.7"
  }
 },
 "nbformat": 4,
 "nbformat_minor": 5
}
